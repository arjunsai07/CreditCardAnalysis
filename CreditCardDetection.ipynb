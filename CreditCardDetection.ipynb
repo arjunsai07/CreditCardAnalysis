{
 "cells": [
  {
   "cell_type": "markdown",
   "id": "43a44cf9-cd57-4ba8-98c9-29dadb2773e5",
   "metadata": {},
   "source": [
    "Installations"
   ]
  },
  {
   "cell_type": "code",
   "execution_count": null,
   "id": "d4f308ce-5544-4b78-a0c1-8cd900ddb450",
   "metadata": {},
   "outputs": [],
   "source": [
    "#pip install -U spacy"
   ]
  },
  {
   "cell_type": "code",
   "execution_count": null,
   "id": "1cc84236-fd3d-4ea7-8983-86dd99d60d9e",
   "metadata": {},
   "outputs": [],
   "source": [
    "#pip install spacy[lookups,transformers]"
   ]
  },
  {
   "cell_type": "code",
   "execution_count": 5,
   "id": "da74a3d0-407a-4d5a-83a2-ee0033fb3a42",
   "metadata": {
    "scrolled": true
   },
   "outputs": [
    {
     "name": "stdout",
     "output_type": "stream",
     "text": [
      "Collecting en-core-web-lg==3.7.1\n",
      "  Using cached https://github.com/explosion/spacy-models/releases/download/en_core_web_lg-3.7.1/en_core_web_lg-3.7.1-py3-none-any.whl (587.7 MB)\n",
      "Requirement already satisfied: spacy<3.8.0,>=3.7.2 in c:\\users\\hp\\anaconda3\\lib\\site-packages (from en-core-web-lg==3.7.1) (3.7.4)\n",
      "Requirement already satisfied: spacy-legacy<3.1.0,>=3.0.11 in c:\\users\\hp\\anaconda3\\lib\\site-packages (from spacy<3.8.0,>=3.7.2->en-core-web-lg==3.7.1) (3.0.12)\n",
      "Requirement already satisfied: spacy-loggers<2.0.0,>=1.0.0 in c:\\users\\hp\\anaconda3\\lib\\site-packages (from spacy<3.8.0,>=3.7.2->en-core-web-lg==3.7.1) (1.0.5)\n",
      "Requirement already satisfied: murmurhash<1.1.0,>=0.28.0 in c:\\users\\hp\\anaconda3\\lib\\site-packages (from spacy<3.8.0,>=3.7.2->en-core-web-lg==3.7.1) (1.0.10)\n",
      "Requirement already satisfied: cymem<2.1.0,>=2.0.2 in c:\\users\\hp\\anaconda3\\lib\\site-packages (from spacy<3.8.0,>=3.7.2->en-core-web-lg==3.7.1) (2.0.8)\n",
      "Requirement already satisfied: preshed<3.1.0,>=3.0.2 in c:\\users\\hp\\anaconda3\\lib\\site-packages (from spacy<3.8.0,>=3.7.2->en-core-web-lg==3.7.1) (3.0.9)\n",
      "Requirement already satisfied: thinc<8.3.0,>=8.2.2 in c:\\users\\hp\\anaconda3\\lib\\site-packages (from spacy<3.8.0,>=3.7.2->en-core-web-lg==3.7.1) (8.2.3)\n",
      "Requirement already satisfied: wasabi<1.2.0,>=0.9.1 in c:\\users\\hp\\anaconda3\\lib\\site-packages (from spacy<3.8.0,>=3.7.2->en-core-web-lg==3.7.1) (1.1.2)\n",
      "Requirement already satisfied: srsly<3.0.0,>=2.4.3 in c:\\users\\hp\\anaconda3\\lib\\site-packages (from spacy<3.8.0,>=3.7.2->en-core-web-lg==3.7.1) (2.4.8)\n",
      "Requirement already satisfied: catalogue<2.1.0,>=2.0.6 in c:\\users\\hp\\anaconda3\\lib\\site-packages (from spacy<3.8.0,>=3.7.2->en-core-web-lg==3.7.1) (2.0.10)\n",
      "Requirement already satisfied: weasel<0.4.0,>=0.1.0 in c:\\users\\hp\\anaconda3\\lib\\site-packages (from spacy<3.8.0,>=3.7.2->en-core-web-lg==3.7.1) (0.3.4)\n",
      "Requirement already satisfied: typer<0.10.0,>=0.3.0 in c:\\users\\hp\\anaconda3\\lib\\site-packages (from spacy<3.8.0,>=3.7.2->en-core-web-lg==3.7.1) (0.9.0)\n",
      "Requirement already satisfied: smart-open<7.0.0,>=5.2.1 in c:\\users\\hp\\anaconda3\\lib\\site-packages (from spacy<3.8.0,>=3.7.2->en-core-web-lg==3.7.1) (5.2.1)\n",
      "Requirement already satisfied: tqdm<5.0.0,>=4.38.0 in c:\\users\\hp\\anaconda3\\lib\\site-packages (from spacy<3.8.0,>=3.7.2->en-core-web-lg==3.7.1) (4.65.0)\n",
      "Requirement already satisfied: requests<3.0.0,>=2.13.0 in c:\\users\\hp\\anaconda3\\lib\\site-packages (from spacy<3.8.0,>=3.7.2->en-core-web-lg==3.7.1) (2.31.0)\n",
      "Requirement already satisfied: pydantic!=1.8,!=1.8.1,<3.0.0,>=1.7.4 in c:\\users\\hp\\anaconda3\\lib\\site-packages (from spacy<3.8.0,>=3.7.2->en-core-web-lg==3.7.1) (1.10.12)\n",
      "Requirement already satisfied: jinja2 in c:\\users\\hp\\anaconda3\\lib\\site-packages (from spacy<3.8.0,>=3.7.2->en-core-web-lg==3.7.1) (2.11.3)\n",
      "Requirement already satisfied: setuptools in c:\\users\\hp\\anaconda3\\lib\\site-packages (from spacy<3.8.0,>=3.7.2->en-core-web-lg==3.7.1) (68.2.2)\n",
      "Requirement already satisfied: packaging>=20.0 in c:\\users\\hp\\anaconda3\\lib\\site-packages (from spacy<3.8.0,>=3.7.2->en-core-web-lg==3.7.1) (23.1)\n",
      "Requirement already satisfied: langcodes<4.0.0,>=3.2.0 in c:\\users\\hp\\anaconda3\\lib\\site-packages (from spacy<3.8.0,>=3.7.2->en-core-web-lg==3.7.1) (3.3.0)\n",
      "Requirement already satisfied: numpy>=1.19.0 in c:\\users\\hp\\anaconda3\\lib\\site-packages (from spacy<3.8.0,>=3.7.2->en-core-web-lg==3.7.1) (1.26.4)\n",
      "Requirement already satisfied: typing-extensions>=4.2.0 in c:\\users\\hp\\anaconda3\\lib\\site-packages (from pydantic!=1.8,!=1.8.1,<3.0.0,>=1.7.4->spacy<3.8.0,>=3.7.2->en-core-web-lg==3.7.1) (4.9.0)\n",
      "Requirement already satisfied: charset-normalizer<4,>=2 in c:\\users\\hp\\anaconda3\\lib\\site-packages (from requests<3.0.0,>=2.13.0->spacy<3.8.0,>=3.7.2->en-core-web-lg==3.7.1) (2.0.4)\n",
      "Requirement already satisfied: idna<4,>=2.5 in c:\\users\\hp\\anaconda3\\lib\\site-packages (from requests<3.0.0,>=2.13.0->spacy<3.8.0,>=3.7.2->en-core-web-lg==3.7.1) (3.4)\n",
      "Requirement already satisfied: urllib3<3,>=1.21.1 in c:\\users\\hp\\anaconda3\\lib\\site-packages (from requests<3.0.0,>=2.13.0->spacy<3.8.0,>=3.7.2->en-core-web-lg==3.7.1) (1.26.18)\n",
      "Requirement already satisfied: certifi>=2017.4.17 in c:\\users\\hp\\anaconda3\\lib\\site-packages (from requests<3.0.0,>=2.13.0->spacy<3.8.0,>=3.7.2->en-core-web-lg==3.7.1) (2024.2.2)\n",
      "Requirement already satisfied: blis<0.8.0,>=0.7.8 in c:\\users\\hp\\anaconda3\\lib\\site-packages (from thinc<8.3.0,>=8.2.2->spacy<3.8.0,>=3.7.2->en-core-web-lg==3.7.1) (0.7.11)\n",
      "Requirement already satisfied: confection<1.0.0,>=0.0.1 in c:\\users\\hp\\anaconda3\\lib\\site-packages (from thinc<8.3.0,>=8.2.2->spacy<3.8.0,>=3.7.2->en-core-web-lg==3.7.1) (0.1.4)\n",
      "Requirement already satisfied: colorama in c:\\users\\hp\\anaconda3\\lib\\site-packages (from tqdm<5.0.0,>=4.38.0->spacy<3.8.0,>=3.7.2->en-core-web-lg==3.7.1) (0.4.6)\n",
      "Requirement already satisfied: click<9.0.0,>=7.1.1 in c:\\users\\hp\\anaconda3\\lib\\site-packages (from typer<0.10.0,>=0.3.0->spacy<3.8.0,>=3.7.2->en-core-web-lg==3.7.1) (8.1.7)\n",
      "Requirement already satisfied: cloudpathlib<0.17.0,>=0.7.0 in c:\\users\\hp\\anaconda3\\lib\\site-packages (from weasel<0.4.0,>=0.1.0->spacy<3.8.0,>=3.7.2->en-core-web-lg==3.7.1) (0.16.0)\n",
      "Requirement already satisfied: MarkupSafe>=0.23 in c:\\users\\hp\\anaconda3\\lib\\site-packages (from jinja2->spacy<3.8.0,>=3.7.2->en-core-web-lg==3.7.1) (2.0.1)\n",
      "\u001b[38;5;2m[+] Download and installation successful\u001b[0m\n",
      "You can now load the package via spacy.load('en_core_web_lg')\n"
     ]
    }
   ],
   "source": [
    "import pandas as pd\n",
    "import os\n",
    "import spacy\n",
    "from tqdm import tqdm\n",
    "from spacy.tokens import DocBin\n",
    "from spacy import displacy\n",
    "\n",
    "\n",
    "!python -m spacy download en_core_web_lg\n",
    "\n",
    "TRAIN_DATA = [\n",
    "    ('My credit card number is 1234 5678 9101 1121, with an expiry date of 05/24 and a CVV of 123.',\n",
    "     {'entities': [(25, 44, 'cardnumber'),(69, 74, 'expirydate'),(88, 91, 'cvv')]}),\n",
    "     \n",
    "    ('Your MasterCard 5555 4444 3333 2222 expiring 04/24, CVV 456, is due for renewal.',\n",
    "     {'entities': [(16, 35, 'cardnumber'),(45, 50, 'expirydate'),(56, 59, 'cvv')]}),\n",
    "     \n",
    "    ('Please update your payment details: Card # 4321-8765-0911-2110, Exp: 08/23, CVV: 321',\n",
    "     {'entities': [(43, 62, 'cardnumber'),(69, 74, 'expirydate'),(81, 84, 'cvv')]}),\n",
    "     \n",
    "    ('For the reservation, I\\'m using Visa ending in 1212, expires 06/25, CVV: 234.',\n",
    "     {'entities': [(61, 66, 'expirydate'),(73, 76, 'cvv')]}),\n",
    "     \n",
    "    ('Confirming your payment: Card 6789 7896 4564 3210, Expiry 07/26, CVV 567',\n",
    "     {'entities': [(30, 49, 'cardnumber'),(58, 63, 'expirydate'),(69, 72, 'cvv')]}),\n",
    "     \n",
    "    ('I updated my payment method to a card ending in 2121, valid through 09/2023, with a CVV of 678.',\n",
    "     {'entities': [(68, 75, 'expirydate'),(91, 94, 'cvv')]}),\n",
    "     \n",
    "    ('Your AMEX 3778 123456 21001 with expiration 10/24 and CVV 789 has been charged.',\n",
    "     {'entities': [(10, 27, 'cardnumber'),(44, 49, 'expirydate'),(58, 61, 'cvv')]}),\n",
    "     \n",
    "    ('Input your credit details: Number 1234567890123456, Exp. Date 12/22, CVV 890.',\n",
    "     {'entities': [(34, 50, 'cardnumber'),(62, 67, 'expirydate'),(73, 76, 'cvv')]}),\n",
    "     \n",
    "    ('We received your payment info: Visa 4111 1111 1111 1111, expiring 01/25, CVV 901.',\n",
    "     {'entities': [(36, 55, 'cardnumber'),(66, 71, 'expirydate'),(77, 80, 'cvv')]}),\n",
    "     \n",
    "    ('Your card number 1234 5678 9123 4567 with an expiry of 12/25 and CVV 123 has been processed.',\n",
    "     {'entities': [(17, 36, 'cardnumber'),(55, 60, 'expirydate'),(69, 72, 'cvv')]}),\n",
    "     \n",
    "    ('Please enter your payment details: Card 4321-8765-0912-3456, Expiration Date: 01/24, CVV: 321.', \n",
    "     {'entities': [(40, 59, 'cardnumber'),(78, 83, 'expirydate'),(90, 93, 'cvv')]}),\n",
    "    \n",
    "    ('Card Details: 5678-9123-4567-1234; Expiry MM/YY: 03/26; CVV: 456.', \n",
    "     {'entities': [(14, 33, 'cardnumber'),(49, 54, 'expirydate'),(61, 64, 'cvv')]}),\n",
    "    \n",
    "    ('We\\'ve charged your Visa ending in 2345, which expires on 06/27, and has a CVV of 789.', \n",
    "     {'entities': [(58, 63, 'expirydate'),(82, 85, 'cvv')]}),\n",
    "    \n",
    "    ('Transaction authorized for card number ending in 3456, expiring on 09/25, CVV 901.', \n",
    "     {'entities': [(67, 72, 'expirydate'),(78, 81, 'cvv')]}),\n",
    "    \n",
    "    ('For billing, use MasterCard 6789-1234-5678-2345, with an expiration of 11/24, and a 123 CVV.', \n",
    "     {'entities': [(28, 47, 'cardnumber'),(71, 76, 'expirydate'),(84, 87, 'cvv')]}),\n",
    "    \n",
    "    ('Your payment method, credit card number 9876-5432-1098-7654, with 08/26 as the expiry date and 890 as the CVV, is now updated.', \n",
    "     {'entities': [(40, 59, 'cardnumber'),(95, 98, 'cvv'),(66, 71, 'expirydate')]}),\n",
    "     \n",
    "    ('Please enter your Visa details as follows: card number 1111 2222 3333 4444, expiry MM/YY such as 03/24, and CVV, perhaps 456.', \n",
    "     {'entities': [(55, 74, 'cardnumber'),(121, 124, 'cvv'),(97, 102, 'expirydate')]}),\n",
    "    \n",
    "    ('Card confirmation: Number 9988 7766 5544 3322, with a CVV of 321, expiring 02/27.', \n",
    "     {'entities': [(26, 45, 'cardnumber'),(61, 64, 'cvv'),(75, 80, 'expirydate')]}),\n",
    "\n",
    "    ('Update billing with card 8899 6677 5544 2233, CVV 123, valid until 11/28.', \n",
    "     {'entities': [(25, 44, 'cardnumber'),(50, 53, 'cvv'),(67, 72, 'expirydate')]}),\n",
    "\n",
    "    ('The three-digit security number on the back of the card, 987, is required for the transaction.', \n",
    "     {'entities': [(57, 60, 'cvv')]}),\n",
    "\n",
    "    ('For added security, input 321 as the card verification value before checkout.', \n",
    "     {'entities': [(26, 29, 'cvv')]}),\n",
    "\n",
    "    ('While paying online, the CVV 764 is an essential part of the process.', \n",
    "     {'entities': [(29, 32, 'cvv')]}),\n",
    "\n",
    "    ('Enter the last three digits, 852, located near the signature strip, to proceed.', \n",
    "     {'entities': [(29, 32, 'cvv')]}),\n",
    "\n",
    "    ('Your payment requires a CVV, which is 213 in this case, for verification.', \n",
    "     {'entities': [(38, 41, 'cvv')]}),\n",
    "\n",
    "    ('I was asked for my card\\'s CVV and I provided 834 to verify my credit card.', \n",
    "     {'entities': [(46, 49, 'cvv')]}),\n",
    "\n",
    "    ('For security purposes, your CVV (123) is not stored in our database.', \n",
    "     {'entities': [(33, 36, 'cvv')]}),\n",
    "\n",
    "    ('The transaction was declined because the CVV, which is 778, was incorrect.', \n",
    "     {'entities': [(55, 58, 'cvv')]}),\n",
    "\n",
    "    ('Upon checking, I noticed my CVV number, 333, seems to be faded on the card.', \n",
    "     {'entities': [(40, 43, 'cvv')]}),\n",
    "\n",
    "    ('Your card\\'s CVV (963) is a crucial detail for online payments.', \n",
    "     {'entities': [(18, 21, 'cvv')]}),\n",
    "\n",
    "    ('When I looked, I saw that my CVV, 432, was clearly printed on my card.', \n",
    "     {'entities': [(34, 37, 'cvv')]}),\n",
    "\n",
    "    (\"Your new credit card 9988 7766 5544 3322, valid till 07/29, has a security code of 987.\", \n",
    "     {'entities': [(21, 40, 'cardnumber'), (53, 58, 'expirydate'), (83, 86, 'cvv')]}),\n",
    "\n",
    "    (\"Transaction details: 6677 8899 2233 5566 expiring next month, CVV: 123.\", \n",
    "     {'entities': [(21, 40, 'cardnumber'), (67, 70, 'cvv')]}),  \n",
    "\n",
    "    (\"Complete your payment with card number 5432 2109 8765 4321, expiry 10/28, CVV 321.\", \n",
    "     {'entities': [(39, 58, 'cardnumber'), (67, 72, 'expirydate'), (78, 81, 'cvv')]}),\n",
    "\n",
    "    (\"For security, enter CVV 654 from the back of your card 4321 1234 4321 1234, which expires 01/30.\", \n",
    "     {'entities': [(24, 27, 'cvv'), (55, 74, 'cardnumber'), (90, 95, 'expirydate')]}),\n",
    "\n",
    "    (\"Card 5678 6789 7890 4321 has been issued, valid through 04/27, security number 456.\", \n",
    "     {'entities': [(5, 24, 'cardnumber'), (56, 61, 'expirydate'), (79, 82, 'cvv')]}),\n",
    "\n",
    "    (\"Please activate your new Visa 1234 5678 9123 4567, exp. date 06/29, CVV: 789.\", \n",
    "     {'entities': [(30, 49, 'cardnumber'), (61, 66, 'expirydate'), (73, 76, 'cvv')]}),\n",
    "\n",
    "    (\"To proceed, provide the 987 as your card's verification number along with 6543 3210 1234 9876 that expires 03/31.\", \n",
    "     {'entities': [(24, 27, 'cvv'), (74, 93, 'cardnumber'), (107, 112, 'expirydate')]}),\n",
    "\n",
    "    (\"Billing update required for card 1122 3344 5566 7788, CVV 321, expiring 05/32.\", \n",
    "     {'entities': [(33, 52, 'cardnumber'), (58, 61, 'cvv'), (72, 77, 'expirydate')]}),\n",
    "\n",
    "    (\"Confirm your card 9987 6543 2109 8765: CVV 432, valid until 12/30.\", \n",
    "     {'entities': [(18, 37, 'cardnumber'), (43, 46, 'cvv'), (60, 65, 'expirydate')]}),\n",
    "\n",
    "    (\"For your booking, use 8765 4321 8765 4321, which has a CVV of 123, and expires on 11/29.\", \n",
    "     {'entities': [(22, 41, 'cardnumber'), (62, 65, 'cvv'), (82, 87, 'expirydate')]}),\n",
    "\n",
    "    (\"Renewal notice: Card 5678-9123-4567-1234 expiring 09/31 with CVV 789.\", \n",
    "     {'entities': [(21, 40, 'cardnumber'), (50, 55, 'expirydate'), (65, 68, 'cvv')]}),\n",
    "\n",
    "    (\"Your AMEX card 5697 350982 14000, expiring 06/29, with security code 1263, has been approved for the recent transaction.\", \n",
    "     {'entities': [(15, 32, 'cardnumber'), (43, 48, 'expirydate'), (69, 73, 'cvv')]}),\n",
    "\n",
    "    (\"Alert: A payment was made using your AMEX 3761 490873 45619, which expires 08/30, CVV 8745.\",\n",
    "     {'entities': [(42, 59, 'cardnumber'), (75, 80, 'expirydate'), (86, 90, 'cvv')]}),\n",
    "\n",
    "    (\"Please enter 4321 1234 4321 1234 cardnumber as your card number, with 06/28 as the expiry and 654 as CVV.\",\n",
    "     {'entities': [(13, 32, 'cardnumber'), (70, 75, 'expirydate'), (94, 97, 'cvv')]}),\n",
    "\n",
    "    (\"Your transaction with card 6789 7890 8901 0123, expiring 08/30 and CVV 987, is complete.\",\n",
    "     {'entities':[(27, 46, 'cardnumber'), (57, 62, 'expirydate'), (71, 74, 'cvv')]})\n",
    "]"
   ]
  },
  {
   "cell_type": "markdown",
   "id": "21261a6d",
   "metadata": {},
   "source": [
    "Creation of a DocBin object as required by SpaCy"
   ]
  },
  {
   "cell_type": "code",
   "execution_count": 6,
   "id": "bea7408a-1f89-4426-9942-021140534577",
   "metadata": {},
   "outputs": [
    {
     "name": "stderr",
     "output_type": "stream",
     "text": [
      "100%|████████████████████████████████████████████████████████████████████████████████| 45/45 [00:00<00:00, 1956.50it/s]"
     ]
    },
    {
     "name": "stdout",
     "output_type": "stream",
     "text": [
      "Skipping entity\n"
     ]
    },
    {
     "name": "stderr",
     "output_type": "stream",
     "text": [
      "\n"
     ]
    }
   ],
   "source": [
    "nlp = spacy.load(\"en_core_web_lg\") # load other spacy model\n",
    "db = DocBin() # create a DocBin object\n",
    "\n",
    "for text, annot in tqdm(TRAIN_DATA): # data in previous format\n",
    "    doc = nlp.make_doc(text) # create doc object from text\n",
    "    ents = []\n",
    "    for start, end, label in annot[\"entities\"]: # add character indexes\n",
    "        span = doc.char_span(start, end, label=label, alignment_mode=\"contract\")\n",
    "        if span is None:\n",
    "            print(\"Skipping entity\")\n",
    "        else:\n",
    "            ents.append(span)\n",
    "    doc.ents = ents # label the text with the ents\n",
    "    db.add(doc)\n",
    "\n",
    "os.chdir(r'C:\\Users\\HP\\Desktop\\Eitacies')\n",
    "db.to_disk(\"./train.spacy\") # save the docbin object"
   ]
  },
  {
   "cell_type": "code",
   "execution_count": 184,
   "id": "540d2a0f-278a-4093-a3a1-88d08adbe7d1",
   "metadata": {},
   "outputs": [],
   "source": [
    "nlp_ner=spacy.load(r\"C:\\Users\\HP\\Desktop\\Eitacies\\output\\model-best\")"
   ]
  },
  {
   "cell_type": "markdown",
   "id": "451ae61d",
   "metadata": {},
   "source": [
    "Testing the model"
   ]
  },
  {
   "cell_type": "code",
   "execution_count": 185,
   "id": "f14c2495-a105-403d-8a35-444bd8dd868f",
   "metadata": {},
   "outputs": [
    {
     "name": "stdout",
     "output_type": "stream",
     "text": [
      "Test data 1\n",
      "1234 5678 8765 4321 cardnumber\n",
      "05/27 expirydate\n",
      "321 cvv\n"
     ]
    },
    {
     "data": {
      "text/html": [
       "<span class=\"tex2jax_ignore\"><div class=\"entities\" style=\"line-height: 2.5; direction: ltr\">Checkout requires card \n",
       "<mark class=\"entity\" style=\"background: #F67DE3; padding: 0.45em 0.6em; margin: 0 0.25em; line-height: 1; border-radius: 0.35em;\">\n",
       "    1234 5678 8765 4321\n",
       "    <span style=\"font-size: 0.8em; font-weight: bold; line-height: 1; border-radius: 0.35em; vertical-align: middle; margin-left: 0.5rem\">cardnumber</span>\n",
       "</mark>\n",
       ", exp. \n",
       "<mark class=\"entity\" style=\"background: #a6e22d; padding: 0.45em 0.6em; margin: 0 0.25em; line-height: 1; border-radius: 0.35em;\">\n",
       "    05/27\n",
       "    <span style=\"font-size: 0.8em; font-weight: bold; line-height: 1; border-radius: 0.35em; vertical-align: middle; margin-left: 0.5rem\">expirydate</span>\n",
       "</mark>\n",
       ", and security code \n",
       "<mark class=\"entity\" style=\"background: #7DF6D9; padding: 0.45em 0.6em; margin: 0 0.25em; line-height: 1; border-radius: 0.35em;\">\n",
       "    321\n",
       "    <span style=\"font-size: 0.8em; font-weight: bold; line-height: 1; border-radius: 0.35em; vertical-align: middle; margin-left: 0.5rem\">cvv</span>\n",
       "</mark>\n",
       ".</div></span>"
      ],
      "text/plain": [
       "<IPython.core.display.HTML object>"
      ]
     },
     "metadata": {},
     "output_type": "display_data"
    },
    {
     "name": "stdout",
     "output_type": "stream",
     "text": [
      "\n",
      "\n",
      "Test data 2\n",
      "5678 6789 7890 1234 cardnumber\n",
      "07/29 expirydate\n",
      "789 cvv\n"
     ]
    },
    {
     "data": {
      "text/html": [
       "<span class=\"tex2jax_ignore\"><div class=\"entities\" style=\"line-height: 2.5; direction: ltr\">Card \n",
       "<mark class=\"entity\" style=\"background: #F67DE3; padding: 0.45em 0.6em; margin: 0 0.25em; line-height: 1; border-radius: 0.35em;\">\n",
       "    5678 6789 7890 1234\n",
       "    <span style=\"font-size: 0.8em; font-weight: bold; line-height: 1; border-radius: 0.35em; vertical-align: middle; margin-left: 0.5rem\">cardnumber</span>\n",
       "</mark>\n",
       " expiring \n",
       "<mark class=\"entity\" style=\"background: #a6e22d; padding: 0.45em 0.6em; margin: 0 0.25em; line-height: 1; border-radius: 0.35em;\">\n",
       "    07/29\n",
       "    <span style=\"font-size: 0.8em; font-weight: bold; line-height: 1; border-radius: 0.35em; vertical-align: middle; margin-left: 0.5rem\">expirydate</span>\n",
       "</mark>\n",
       " has CVV \n",
       "<mark class=\"entity\" style=\"background: #7DF6D9; padding: 0.45em 0.6em; margin: 0 0.25em; line-height: 1; border-radius: 0.35em;\">\n",
       "    789\n",
       "    <span style=\"font-size: 0.8em; font-weight: bold; line-height: 1; border-radius: 0.35em; vertical-align: middle; margin-left: 0.5rem\">cvv</span>\n",
       "</mark>\n",
       " for online payments.</div></span>"
      ],
      "text/plain": [
       "<IPython.core.display.HTML object>"
      ]
     },
     "metadata": {},
     "output_type": "display_data"
    },
    {
     "name": "stdout",
     "output_type": "stream",
     "text": [
      "\n",
      "\n",
      "Test data 3\n",
      "8901 0123 1234 4567 cardnumber\n",
      "09/31 expirydate\n",
      ". cvv\n"
     ]
    },
    {
     "data": {
      "text/html": [
       "<span class=\"tex2jax_ignore\"><div class=\"entities\" style=\"line-height: 2.5; direction: ltr\">For card \n",
       "<mark class=\"entity\" style=\"background: #F67DE3; padding: 0.45em 0.6em; margin: 0 0.25em; line-height: 1; border-radius: 0.35em;\">\n",
       "    8901 0123 1234 4567\n",
       "    <span style=\"font-size: 0.8em; font-weight: bold; line-height: 1; border-radius: 0.35em; vertical-align: middle; margin-left: 0.5rem\">cardnumber</span>\n",
       "</mark>\n",
       ", please update expiry to \n",
       "<mark class=\"entity\" style=\"background: #a6e22d; padding: 0.45em 0.6em; margin: 0 0.25em; line-height: 1; border-radius: 0.35em;\">\n",
       "    09/31\n",
       "    <span style=\"font-size: 0.8em; font-weight: bold; line-height: 1; border-radius: 0.35em; vertical-align: middle; margin-left: 0.5rem\">expirydate</span>\n",
       "</mark>\n",
       " and CVV to 234\n",
       "<mark class=\"entity\" style=\"background: #7DF6D9; padding: 0.45em 0.6em; margin: 0 0.25em; line-height: 1; border-radius: 0.35em;\">\n",
       "    .\n",
       "    <span style=\"font-size: 0.8em; font-weight: bold; line-height: 1; border-radius: 0.35em; vertical-align: middle; margin-left: 0.5rem\">cvv</span>\n",
       "</mark>\n",
       "</div></span>"
      ],
      "text/plain": [
       "<IPython.core.display.HTML object>"
      ]
     },
     "metadata": {},
     "output_type": "display_data"
    },
    {
     "name": "stdout",
     "output_type": "stream",
     "text": [
      "\n",
      "\n",
      "Test data 4\n",
      "9012 3456 5678 7890 cardnumber\n",
      "345 cvv\n",
      "10/32 expirydate\n"
     ]
    },
    {
     "data": {
      "text/html": [
       "<span class=\"tex2jax_ignore\"><div class=\"entities\" style=\"line-height: 2.5; direction: ltr\">Confirm card \n",
       "<mark class=\"entity\" style=\"background: #F67DE3; padding: 0.45em 0.6em; margin: 0 0.25em; line-height: 1; border-radius: 0.35em;\">\n",
       "    9012 3456 5678 7890\n",
       "    <span style=\"font-size: 0.8em; font-weight: bold; line-height: 1; border-radius: 0.35em; vertical-align: middle; margin-left: 0.5rem\">cardnumber</span>\n",
       "</mark>\n",
       ", CVV \n",
       "<mark class=\"entity\" style=\"background: #7DF6D9; padding: 0.45em 0.6em; margin: 0 0.25em; line-height: 1; border-radius: 0.35em;\">\n",
       "    345\n",
       "    <span style=\"font-size: 0.8em; font-weight: bold; line-height: 1; border-radius: 0.35em; vertical-align: middle; margin-left: 0.5rem\">cvv</span>\n",
       "</mark>\n",
       ", valid through \n",
       "<mark class=\"entity\" style=\"background: #a6e22d; padding: 0.45em 0.6em; margin: 0 0.25em; line-height: 1; border-radius: 0.35em;\">\n",
       "    10/32\n",
       "    <span style=\"font-size: 0.8em; font-weight: bold; line-height: 1; border-radius: 0.35em; vertical-align: middle; margin-left: 0.5rem\">expirydate</span>\n",
       "</mark>\n",
       ".</div></span>"
      ],
      "text/plain": [
       "<IPython.core.display.HTML object>"
      ]
     },
     "metadata": {},
     "output_type": "display_data"
    },
    {
     "name": "stdout",
     "output_type": "stream",
     "text": [
      "\n",
      "\n",
      "Test data 5\n",
      "2345 4567 6789 7890 cardnumber\n",
      "11/33 expirydate\n",
      "456 cvv\n"
     ]
    },
    {
     "data": {
      "text/html": [
       "<span class=\"tex2jax_ignore\"><div class=\"entities\" style=\"line-height: 2.5; direction: ltr\">Update your card \n",
       "<mark class=\"entity\" style=\"background: #F67DE3; padding: 0.45em 0.6em; margin: 0 0.25em; line-height: 1; border-radius: 0.35em;\">\n",
       "    2345 4567 6789 7890\n",
       "    <span style=\"font-size: 0.8em; font-weight: bold; line-height: 1; border-radius: 0.35em; vertical-align: middle; margin-left: 0.5rem\">cardnumber</span>\n",
       "</mark>\n",
       " with expiration date \n",
       "<mark class=\"entity\" style=\"background: #a6e22d; padding: 0.45em 0.6em; margin: 0 0.25em; line-height: 1; border-radius: 0.35em;\">\n",
       "    11/33\n",
       "    <span style=\"font-size: 0.8em; font-weight: bold; line-height: 1; border-radius: 0.35em; vertical-align: middle; margin-left: 0.5rem\">expirydate</span>\n",
       "</mark>\n",
       " and CVV \n",
       "<mark class=\"entity\" style=\"background: #7DF6D9; padding: 0.45em 0.6em; margin: 0 0.25em; line-height: 1; border-radius: 0.35em;\">\n",
       "    456\n",
       "    <span style=\"font-size: 0.8em; font-weight: bold; line-height: 1; border-radius: 0.35em; vertical-align: middle; margin-left: 0.5rem\">cvv</span>\n",
       "</mark>\n",
       ".</div></span>"
      ],
      "text/plain": [
       "<IPython.core.display.HTML object>"
      ]
     },
     "metadata": {},
     "output_type": "display_data"
    },
    {
     "name": "stdout",
     "output_type": "stream",
     "text": [
      "\n",
      "\n",
      "Test data 6\n",
      "3456 5678 7890 8901 cardnumber\n",
      "12/34 expirydate\n",
      "567 cvv\n"
     ]
    },
    {
     "data": {
      "text/html": [
       "<span class=\"tex2jax_ignore\"><div class=\"entities\" style=\"line-height: 2.5; direction: ltr\">Card \n",
       "<mark class=\"entity\" style=\"background: #F67DE3; padding: 0.45em 0.6em; margin: 0 0.25em; line-height: 1; border-radius: 0.35em;\">\n",
       "    3456 5678 7890 8901\n",
       "    <span style=\"font-size: 0.8em; font-weight: bold; line-height: 1; border-radius: 0.35em; vertical-align: middle; margin-left: 0.5rem\">cardnumber</span>\n",
       "</mark>\n",
       ", expiring \n",
       "<mark class=\"entity\" style=\"background: #a6e22d; padding: 0.45em 0.6em; margin: 0 0.25em; line-height: 1; border-radius: 0.35em;\">\n",
       "    12/34\n",
       "    <span style=\"font-size: 0.8em; font-weight: bold; line-height: 1; border-radius: 0.35em; vertical-align: middle; margin-left: 0.5rem\">expirydate</span>\n",
       "</mark>\n",
       ", requires CVV \n",
       "<mark class=\"entity\" style=\"background: #7DF6D9; padding: 0.45em 0.6em; margin: 0 0.25em; line-height: 1; border-radius: 0.35em;\">\n",
       "    567\n",
       "    <span style=\"font-size: 0.8em; font-weight: bold; line-height: 1; border-radius: 0.35em; vertical-align: middle; margin-left: 0.5rem\">cvv</span>\n",
       "</mark>\n",
       " for verification.</div></span>"
      ],
      "text/plain": [
       "<IPython.core.display.HTML object>"
      ]
     },
     "metadata": {},
     "output_type": "display_data"
    },
    {
     "name": "stdout",
     "output_type": "stream",
     "text": [
      "\n",
      "\n",
      "Test data 7\n",
      "4567 6789 8901 0123 cardnumber\n",
      "01/35 expirydate\n",
      "678 cvv\n"
     ]
    },
    {
     "data": {
      "text/html": [
       "<span class=\"tex2jax_ignore\"><div class=\"entities\" style=\"line-height: 2.5; direction: ltr\">Complete your profile with card number \n",
       "<mark class=\"entity\" style=\"background: #F67DE3; padding: 0.45em 0.6em; margin: 0 0.25em; line-height: 1; border-radius: 0.35em;\">\n",
       "    4567 6789 8901 0123\n",
       "    <span style=\"font-size: 0.8em; font-weight: bold; line-height: 1; border-radius: 0.35em; vertical-align: middle; margin-left: 0.5rem\">cardnumber</span>\n",
       "</mark>\n",
       ", expiry \n",
       "<mark class=\"entity\" style=\"background: #a6e22d; padding: 0.45em 0.6em; margin: 0 0.25em; line-height: 1; border-radius: 0.35em;\">\n",
       "    01/35\n",
       "    <span style=\"font-size: 0.8em; font-weight: bold; line-height: 1; border-radius: 0.35em; vertical-align: middle; margin-left: 0.5rem\">expirydate</span>\n",
       "</mark>\n",
       ", and CVV \n",
       "<mark class=\"entity\" style=\"background: #7DF6D9; padding: 0.45em 0.6em; margin: 0 0.25em; line-height: 1; border-radius: 0.35em;\">\n",
       "    678\n",
       "    <span style=\"font-size: 0.8em; font-weight: bold; line-height: 1; border-radius: 0.35em; vertical-align: middle; margin-left: 0.5rem\">cvv</span>\n",
       "</mark>\n",
       ".</div></span>"
      ],
      "text/plain": [
       "<IPython.core.display.HTML object>"
      ]
     },
     "metadata": {},
     "output_type": "display_data"
    },
    {
     "name": "stdout",
     "output_type": "stream",
     "text": [
      "\n",
      "\n",
      "Test data 8\n",
      "5678 7890 0123 2345 cardnumber\n",
      "02/36 expirydate\n",
      "789 cvv\n"
     ]
    },
    {
     "data": {
      "text/html": [
       "<span class=\"tex2jax_ignore\"><div class=\"entities\" style=\"line-height: 2.5; direction: ltr\">To renew, input card \n",
       "<mark class=\"entity\" style=\"background: #F67DE3; padding: 0.45em 0.6em; margin: 0 0.25em; line-height: 1; border-radius: 0.35em;\">\n",
       "    5678 7890 0123 2345\n",
       "    <span style=\"font-size: 0.8em; font-weight: bold; line-height: 1; border-radius: 0.35em; vertical-align: middle; margin-left: 0.5rem\">cardnumber</span>\n",
       "</mark>\n",
       ", valid until \n",
       "<mark class=\"entity\" style=\"background: #a6e22d; padding: 0.45em 0.6em; margin: 0 0.25em; line-height: 1; border-radius: 0.35em;\">\n",
       "    02/36\n",
       "    <span style=\"font-size: 0.8em; font-weight: bold; line-height: 1; border-radius: 0.35em; vertical-align: middle; margin-left: 0.5rem\">expirydate</span>\n",
       "</mark>\n",
       ", with CVV \n",
       "<mark class=\"entity\" style=\"background: #7DF6D9; padding: 0.45em 0.6em; margin: 0 0.25em; line-height: 1; border-radius: 0.35em;\">\n",
       "    789\n",
       "    <span style=\"font-size: 0.8em; font-weight: bold; line-height: 1; border-radius: 0.35em; vertical-align: middle; margin-left: 0.5rem\">cvv</span>\n",
       "</mark>\n",
       ".</div></span>"
      ],
      "text/plain": [
       "<IPython.core.display.HTML object>"
      ]
     },
     "metadata": {},
     "output_type": "display_data"
    },
    {
     "name": "stdout",
     "output_type": "stream",
     "text": [
      "\n",
      "\n",
      "Test data 9\n",
      "6789 8901 2345 3456 cardnumber\n",
      "890 cvv\n",
      "03/37 expirydate\n"
     ]
    },
    {
     "data": {
      "text/html": [
       "<span class=\"tex2jax_ignore\"><div class=\"entities\" style=\"line-height: 2.5; direction: ltr\">Your new card \n",
       "<mark class=\"entity\" style=\"background: #F67DE3; padding: 0.45em 0.6em; margin: 0 0.25em; line-height: 1; border-radius: 0.35em;\">\n",
       "    6789 8901 2345 3456\n",
       "    <span style=\"font-size: 0.8em; font-weight: bold; line-height: 1; border-radius: 0.35em; vertical-align: middle; margin-left: 0.5rem\">cardnumber</span>\n",
       "</mark>\n",
       ", CVV \n",
       "<mark class=\"entity\" style=\"background: #7DF6D9; padding: 0.45em 0.6em; margin: 0 0.25em; line-height: 1; border-radius: 0.35em;\">\n",
       "    890\n",
       "    <span style=\"font-size: 0.8em; font-weight: bold; line-height: 1; border-radius: 0.35em; vertical-align: middle; margin-left: 0.5rem\">cvv</span>\n",
       "</mark>\n",
       ", exp. \n",
       "<mark class=\"entity\" style=\"background: #a6e22d; padding: 0.45em 0.6em; margin: 0 0.25em; line-height: 1; border-radius: 0.35em;\">\n",
       "    03/37\n",
       "    <span style=\"font-size: 0.8em; font-weight: bold; line-height: 1; border-radius: 0.35em; vertical-align: middle; margin-left: 0.5rem\">expirydate</span>\n",
       "</mark>\n",
       " has been activated.</div></span>"
      ],
      "text/plain": [
       "<IPython.core.display.HTML object>"
      ]
     },
     "metadata": {},
     "output_type": "display_data"
    },
    {
     "name": "stdout",
     "output_type": "stream",
     "text": [
      "\n",
      "\n",
      "Test data 10\n",
      "7890 0123 3456 4567 cardnumber\n",
      "04/38 expirydate\n",
      "901 cvv\n"
     ]
    },
    {
     "data": {
      "text/html": [
       "<span class=\"tex2jax_ignore\"><div class=\"entities\" style=\"line-height: 2.5; direction: ltr\">Register using card \n",
       "<mark class=\"entity\" style=\"background: #F67DE3; padding: 0.45em 0.6em; margin: 0 0.25em; line-height: 1; border-radius: 0.35em;\">\n",
       "    7890 0123 3456 4567\n",
       "    <span style=\"font-size: 0.8em; font-weight: bold; line-height: 1; border-radius: 0.35em; vertical-align: middle; margin-left: 0.5rem\">cardnumber</span>\n",
       "</mark>\n",
       " with expiry \n",
       "<mark class=\"entity\" style=\"background: #a6e22d; padding: 0.45em 0.6em; margin: 0 0.25em; line-height: 1; border-radius: 0.35em;\">\n",
       "    04/38\n",
       "    <span style=\"font-size: 0.8em; font-weight: bold; line-height: 1; border-radius: 0.35em; vertical-align: middle; margin-left: 0.5rem\">expirydate</span>\n",
       "</mark>\n",
       " and CVV \n",
       "<mark class=\"entity\" style=\"background: #7DF6D9; padding: 0.45em 0.6em; margin: 0 0.25em; line-height: 1; border-radius: 0.35em;\">\n",
       "    901\n",
       "    <span style=\"font-size: 0.8em; font-weight: bold; line-height: 1; border-radius: 0.35em; vertical-align: middle; margin-left: 0.5rem\">cvv</span>\n",
       "</mark>\n",
       ".</div></span>"
      ],
      "text/plain": [
       "<IPython.core.display.HTML object>"
      ]
     },
     "metadata": {},
     "output_type": "display_data"
    },
    {
     "name": "stdout",
     "output_type": "stream",
     "text": [
      "\n",
      "\n",
      "Test data 11\n",
      "8901 1234 4567 5678 cardnumber\n",
      "05/39 expirydate\n",
      "012 cvv\n"
     ]
    },
    {
     "data": {
      "text/html": [
       "<span class=\"tex2jax_ignore\"><div class=\"entities\" style=\"line-height: 2.5; direction: ltr\">Card \n",
       "<mark class=\"entity\" style=\"background: #F67DE3; padding: 0.45em 0.6em; margin: 0 0.25em; line-height: 1; border-radius: 0.35em;\">\n",
       "    8901 1234 4567 5678\n",
       "    <span style=\"font-size: 0.8em; font-weight: bold; line-height: 1; border-radius: 0.35em; vertical-align: middle; margin-left: 0.5rem\">cardnumber</span>\n",
       "</mark>\n",
       ", expiring next year on \n",
       "<mark class=\"entity\" style=\"background: #a6e22d; padding: 0.45em 0.6em; margin: 0 0.25em; line-height: 1; border-radius: 0.35em;\">\n",
       "    05/39\n",
       "    <span style=\"font-size: 0.8em; font-weight: bold; line-height: 1; border-radius: 0.35em; vertical-align: middle; margin-left: 0.5rem\">expirydate</span>\n",
       "</mark>\n",
       ", CVV \n",
       "<mark class=\"entity\" style=\"background: #7DF6D9; padding: 0.45em 0.6em; margin: 0 0.25em; line-height: 1; border-radius: 0.35em;\">\n",
       "    012\n",
       "    <span style=\"font-size: 0.8em; font-weight: bold; line-height: 1; border-radius: 0.35em; vertical-align: middle; margin-left: 0.5rem\">cvv</span>\n",
       "</mark>\n",
       " needs an update.</div></span>"
      ],
      "text/plain": [
       "<IPython.core.display.HTML object>"
      ]
     },
     "metadata": {},
     "output_type": "display_data"
    },
    {
     "name": "stdout",
     "output_type": "stream",
     "text": [
      "\n",
      "\n",
      "Test data 12\n",
      "9012 2345 5678 6789 cardnumber\n",
      "06/40 expirydate\n",
      "123 cvv\n"
     ]
    },
    {
     "data": {
      "text/html": [
       "<span class=\"tex2jax_ignore\"><div class=\"entities\" style=\"line-height: 2.5; direction: ltr\">Subscription with card \n",
       "<mark class=\"entity\" style=\"background: #F67DE3; padding: 0.45em 0.6em; margin: 0 0.25em; line-height: 1; border-radius: 0.35em;\">\n",
       "    9012 2345 5678 6789\n",
       "    <span style=\"font-size: 0.8em; font-weight: bold; line-height: 1; border-radius: 0.35em; vertical-align: middle; margin-left: 0.5rem\">cardnumber</span>\n",
       "</mark>\n",
       ", valid through \n",
       "<mark class=\"entity\" style=\"background: #a6e22d; padding: 0.45em 0.6em; margin: 0 0.25em; line-height: 1; border-radius: 0.35em;\">\n",
       "    06/40\n",
       "    <span style=\"font-size: 0.8em; font-weight: bold; line-height: 1; border-radius: 0.35em; vertical-align: middle; margin-left: 0.5rem\">expirydate</span>\n",
       "</mark>\n",
       ", CVV \n",
       "<mark class=\"entity\" style=\"background: #7DF6D9; padding: 0.45em 0.6em; margin: 0 0.25em; line-height: 1; border-radius: 0.35em;\">\n",
       "    123\n",
       "    <span style=\"font-size: 0.8em; font-weight: bold; line-height: 1; border-radius: 0.35em; vertical-align: middle; margin-left: 0.5rem\">cvv</span>\n",
       "</mark>\n",
       " confirmed.</div></span>"
      ],
      "text/plain": [
       "<IPython.core.display.HTML object>"
      ]
     },
     "metadata": {},
     "output_type": "display_data"
    },
    {
     "name": "stdout",
     "output_type": "stream",
     "text": [
      "\n",
      "\n",
      "Test data 13\n",
      "0123 3456 6789 7890 cardnumber\n",
      "07/41 expirydate\n",
      ". cvv\n"
     ]
    },
    {
     "data": {
      "text/html": [
       "<span class=\"tex2jax_ignore\"><div class=\"entities\" style=\"line-height: 2.5; direction: ltr\">For booking, use card \n",
       "<mark class=\"entity\" style=\"background: #F67DE3; padding: 0.45em 0.6em; margin: 0 0.25em; line-height: 1; border-radius: 0.35em;\">\n",
       "    0123 3456 6789 7890\n",
       "    <span style=\"font-size: 0.8em; font-weight: bold; line-height: 1; border-radius: 0.35em; vertical-align: middle; margin-left: 0.5rem\">cardnumber</span>\n",
       "</mark>\n",
       " exp. \n",
       "<mark class=\"entity\" style=\"background: #a6e22d; padding: 0.45em 0.6em; margin: 0 0.25em; line-height: 1; border-radius: 0.35em;\">\n",
       "    07/41\n",
       "    <span style=\"font-size: 0.8em; font-weight: bold; line-height: 1; border-radius: 0.35em; vertical-align: middle; margin-left: 0.5rem\">expirydate</span>\n",
       "</mark>\n",
       " and enter CVV 234\n",
       "<mark class=\"entity\" style=\"background: #7DF6D9; padding: 0.45em 0.6em; margin: 0 0.25em; line-height: 1; border-radius: 0.35em;\">\n",
       "    .\n",
       "    <span style=\"font-size: 0.8em; font-weight: bold; line-height: 1; border-radius: 0.35em; vertical-align: middle; margin-left: 0.5rem\">cvv</span>\n",
       "</mark>\n",
       "</div></span>"
      ],
      "text/plain": [
       "<IPython.core.display.HTML object>"
      ]
     },
     "metadata": {},
     "output_type": "display_data"
    },
    {
     "name": "stdout",
     "output_type": "stream",
     "text": [
      "\n",
      "\n",
      "Test data 14\n",
      "1234 4567 7890 8901 cardnumber\n",
      "08/42 expirydate\n",
      "345 cvv\n"
     ]
    },
    {
     "data": {
      "text/html": [
       "<span class=\"tex2jax_ignore\"><div class=\"entities\" style=\"line-height: 2.5; direction: ltr\">Your card \n",
       "<mark class=\"entity\" style=\"background: #F67DE3; padding: 0.45em 0.6em; margin: 0 0.25em; line-height: 1; border-radius: 0.35em;\">\n",
       "    1234 4567 7890 8901\n",
       "    <span style=\"font-size: 0.8em; font-weight: bold; line-height: 1; border-radius: 0.35em; vertical-align: middle; margin-left: 0.5rem\">cardnumber</span>\n",
       "</mark>\n",
       " with expiry \n",
       "<mark class=\"entity\" style=\"background: #a6e22d; padding: 0.45em 0.6em; margin: 0 0.25em; line-height: 1; border-radius: 0.35em;\">\n",
       "    08/42\n",
       "    <span style=\"font-size: 0.8em; font-weight: bold; line-height: 1; border-radius: 0.35em; vertical-align: middle; margin-left: 0.5rem\">expirydate</span>\n",
       "</mark>\n",
       " and CVV \n",
       "<mark class=\"entity\" style=\"background: #7DF6D9; padding: 0.45em 0.6em; margin: 0 0.25em; line-height: 1; border-radius: 0.35em;\">\n",
       "    345\n",
       "    <span style=\"font-size: 0.8em; font-weight: bold; line-height: 1; border-radius: 0.35em; vertical-align: middle; margin-left: 0.5rem\">cvv</span>\n",
       "</mark>\n",
       " was charged.</div></span>"
      ],
      "text/plain": [
       "<IPython.core.display.HTML object>"
      ]
     },
     "metadata": {},
     "output_type": "display_data"
    },
    {
     "name": "stdout",
     "output_type": "stream",
     "text": [
      "\n",
      "\n",
      "Test data 15\n",
      "2345 5678 8901 0123 cardnumber\n",
      "09/43 expirydate\n",
      "456 cvv\n"
     ]
    },
    {
     "data": {
      "text/html": [
       "<span class=\"tex2jax_ignore\"><div class=\"entities\" style=\"line-height: 2.5; direction: ltr\">Activate your service with card \n",
       "<mark class=\"entity\" style=\"background: #F67DE3; padding: 0.45em 0.6em; margin: 0 0.25em; line-height: 1; border-radius: 0.35em;\">\n",
       "    2345 5678 8901 0123\n",
       "    <span style=\"font-size: 0.8em; font-weight: bold; line-height: 1; border-radius: 0.35em; vertical-align: middle; margin-left: 0.5rem\">cardnumber</span>\n",
       "</mark>\n",
       ", expiring \n",
       "<mark class=\"entity\" style=\"background: #a6e22d; padding: 0.45em 0.6em; margin: 0 0.25em; line-height: 1; border-radius: 0.35em;\">\n",
       "    09/43\n",
       "    <span style=\"font-size: 0.8em; font-weight: bold; line-height: 1; border-radius: 0.35em; vertical-align: middle; margin-left: 0.5rem\">expirydate</span>\n",
       "</mark>\n",
       ", CVV \n",
       "<mark class=\"entity\" style=\"background: #7DF6D9; padding: 0.45em 0.6em; margin: 0 0.25em; line-height: 1; border-radius: 0.35em;\">\n",
       "    456\n",
       "    <span style=\"font-size: 0.8em; font-weight: bold; line-height: 1; border-radius: 0.35em; vertical-align: middle; margin-left: 0.5rem\">cvv</span>\n",
       "</mark>\n",
       ".</div></span>"
      ],
      "text/plain": [
       "<IPython.core.display.HTML object>"
      ]
     },
     "metadata": {},
     "output_type": "display_data"
    },
    {
     "name": "stdout",
     "output_type": "stream",
     "text": [
      "\n",
      "\n",
      "Test data 16\n",
      "3456 6789 9012 2345 cardnumber\n",
      "10/44 expirydate\n",
      "567 cvv\n"
     ]
    },
    {
     "data": {
      "text/html": [
       "<span class=\"tex2jax_ignore\"><div class=\"entities\" style=\"line-height: 2.5; direction: ltr\">Payment was made with card \n",
       "<mark class=\"entity\" style=\"background: #F67DE3; padding: 0.45em 0.6em; margin: 0 0.25em; line-height: 1; border-radius: 0.35em;\">\n",
       "    3456 6789 9012 2345\n",
       "    <span style=\"font-size: 0.8em; font-weight: bold; line-height: 1; border-radius: 0.35em; vertical-align: middle; margin-left: 0.5rem\">cardnumber</span>\n",
       "</mark>\n",
       ", expiry date \n",
       "<mark class=\"entity\" style=\"background: #a6e22d; padding: 0.45em 0.6em; margin: 0 0.25em; line-height: 1; border-radius: 0.35em;\">\n",
       "    10/44\n",
       "    <span style=\"font-size: 0.8em; font-weight: bold; line-height: 1; border-radius: 0.35em; vertical-align: middle; margin-left: 0.5rem\">expirydate</span>\n",
       "</mark>\n",
       ", CVV \n",
       "<mark class=\"entity\" style=\"background: #7DF6D9; padding: 0.45em 0.6em; margin: 0 0.25em; line-height: 1; border-radius: 0.35em;\">\n",
       "    567\n",
       "    <span style=\"font-size: 0.8em; font-weight: bold; line-height: 1; border-radius: 0.35em; vertical-align: middle; margin-left: 0.5rem\">cvv</span>\n",
       "</mark>\n",
       ".</div></span>"
      ],
      "text/plain": [
       "<IPython.core.display.HTML object>"
      ]
     },
     "metadata": {},
     "output_type": "display_data"
    },
    {
     "name": "stdout",
     "output_type": "stream",
     "text": [
      "\n",
      "\n",
      "Test data 17\n",
      "4567 7890 0123 3456 cardnumber\n",
      "11/45 expirydate\n",
      "678 cvv\n"
     ]
    },
    {
     "data": {
      "text/html": [
       "<span class=\"tex2jax_ignore\"><div class=\"entities\" style=\"line-height: 2.5; direction: ltr\">Renewal with card \n",
       "<mark class=\"entity\" style=\"background: #F67DE3; padding: 0.45em 0.6em; margin: 0 0.25em; line-height: 1; border-radius: 0.35em;\">\n",
       "    4567 7890 0123 3456\n",
       "    <span style=\"font-size: 0.8em; font-weight: bold; line-height: 1; border-radius: 0.35em; vertical-align: middle; margin-left: 0.5rem\">cardnumber</span>\n",
       "</mark>\n",
       ", valid till \n",
       "<mark class=\"entity\" style=\"background: #a6e22d; padding: 0.45em 0.6em; margin: 0 0.25em; line-height: 1; border-radius: 0.35em;\">\n",
       "    11/45\n",
       "    <span style=\"font-size: 0.8em; font-weight: bold; line-height: 1; border-radius: 0.35em; vertical-align: middle; margin-left: 0.5rem\">expirydate</span>\n",
       "</mark>\n",
       ", CVV \n",
       "<mark class=\"entity\" style=\"background: #7DF6D9; padding: 0.45em 0.6em; margin: 0 0.25em; line-height: 1; border-radius: 0.35em;\">\n",
       "    678\n",
       "    <span style=\"font-size: 0.8em; font-weight: bold; line-height: 1; border-radius: 0.35em; vertical-align: middle; margin-left: 0.5rem\">cvv</span>\n",
       "</mark>\n",
       " successful.</div></span>"
      ],
      "text/plain": [
       "<IPython.core.display.HTML object>"
      ]
     },
     "metadata": {},
     "output_type": "display_data"
    },
    {
     "name": "stdout",
     "output_type": "stream",
     "text": [
      "\n",
      "\n",
      "Test data 18\n",
      "5678 8901 2345 4567 cardnumber\n",
      "12/46 expirydate\n",
      "789 cvv\n"
     ]
    },
    {
     "data": {
      "text/html": [
       "<span class=\"tex2jax_ignore\"><div class=\"entities\" style=\"line-height: 2.5; direction: ltr\">Card \n",
       "<mark class=\"entity\" style=\"background: #F67DE3; padding: 0.45em 0.6em; margin: 0 0.25em; line-height: 1; border-radius: 0.35em;\">\n",
       "    5678 8901 2345 4567\n",
       "    <span style=\"font-size: 0.8em; font-weight: bold; line-height: 1; border-radius: 0.35em; vertical-align: middle; margin-left: 0.5rem\">cardnumber</span>\n",
       "</mark>\n",
       ", exp. \n",
       "<mark class=\"entity\" style=\"background: #a6e22d; padding: 0.45em 0.6em; margin: 0 0.25em; line-height: 1; border-radius: 0.35em;\">\n",
       "    12/46\n",
       "    <span style=\"font-size: 0.8em; font-weight: bold; line-height: 1; border-radius: 0.35em; vertical-align: middle; margin-left: 0.5rem\">expirydate</span>\n",
       "</mark>\n",
       ", and CVV \n",
       "<mark class=\"entity\" style=\"background: #7DF6D9; padding: 0.45em 0.6em; margin: 0 0.25em; line-height: 1; border-radius: 0.35em;\">\n",
       "    789\n",
       "    <span style=\"font-size: 0.8em; font-weight: bold; line-height: 1; border-radius: 0.35em; vertical-align: middle; margin-left: 0.5rem\">cvv</span>\n",
       "</mark>\n",
       " is now linked to your account.</div></span>"
      ],
      "text/plain": [
       "<IPython.core.display.HTML object>"
      ]
     },
     "metadata": {},
     "output_type": "display_data"
    },
    {
     "name": "stdout",
     "output_type": "stream",
     "text": [
      "\n",
      "\n",
      "Test data 19\n",
      "3411 533584 31000 cardnumber\n",
      "06/28 expirydate\n",
      "1107 cvv\n"
     ]
    },
    {
     "data": {
      "text/html": [
       "<span class=\"tex2jax_ignore\"><div class=\"entities\" style=\"line-height: 2.5; direction: ltr\">My card number is \n",
       "<mark class=\"entity\" style=\"background: #F67DE3; padding: 0.45em 0.6em; margin: 0 0.25em; line-height: 1; border-radius: 0.35em;\">\n",
       "    3411 533584 31000\n",
       "    <span style=\"font-size: 0.8em; font-weight: bold; line-height: 1; border-radius: 0.35em; vertical-align: middle; margin-left: 0.5rem\">cardnumber</span>\n",
       "</mark>\n",
       ", expiring on \n",
       "<mark class=\"entity\" style=\"background: #a6e22d; padding: 0.45em 0.6em; margin: 0 0.25em; line-height: 1; border-radius: 0.35em;\">\n",
       "    06/28\n",
       "    <span style=\"font-size: 0.8em; font-weight: bold; line-height: 1; border-radius: 0.35em; vertical-align: middle; margin-left: 0.5rem\">expirydate</span>\n",
       "</mark>\n",
       " and CVV is \n",
       "<mark class=\"entity\" style=\"background: #7DF6D9; padding: 0.45em 0.6em; margin: 0 0.25em; line-height: 1; border-radius: 0.35em;\">\n",
       "    1107\n",
       "    <span style=\"font-size: 0.8em; font-weight: bold; line-height: 1; border-radius: 0.35em; vertical-align: middle; margin-left: 0.5rem\">cvv</span>\n",
       "</mark>\n",
       "</div></span>"
      ],
      "text/plain": [
       "<IPython.core.display.HTML object>"
      ]
     },
     "metadata": {},
     "output_type": "display_data"
    },
    {
     "name": "stdout",
     "output_type": "stream",
     "text": [
      "\n",
      "\n"
     ]
    }
   ],
   "source": [
    "test_data = [\n",
    "    \"Checkout requires card 1234 5678 8765 4321, exp. 05/27, and security code 321.\",\n",
    "    \"Card 5678 6789 7890 1234 expiring 07/29 has CVV 789 for online payments.\",\n",
    "    \"For card 8901 0123 1234 4567, please update expiry to 09/31 and CVV to 234.\",\n",
    "    \"Confirm card 9012 3456 5678 7890, CVV 345, valid through 10/32.\",\n",
    "    \"Update your card 2345 4567 6789 7890 with expiration date 11/33 and CVV 456.\",\n",
    "    \"Card 3456 5678 7890 8901, expiring 12/34, requires CVV 567 for verification.\",\n",
    "    \"Complete your profile with card number 4567 6789 8901 0123, expiry 01/35, and CVV 678.\",\n",
    "    \"To renew, input card 5678 7890 0123 2345, valid until 02/36, with CVV 789.\",\n",
    "    \"Your new card 6789 8901 2345 3456, CVV 890, exp. 03/37 has been activated.\",\n",
    "    \"Register using card 7890 0123 3456 4567 with expiry 04/38 and CVV 901.\",\n",
    "    \"Card 8901 1234 4567 5678, expiring next year on 05/39, CVV 012 needs an update.\",\n",
    "    \"Subscription with card 9012 2345 5678 6789, valid through 06/40, CVV 123 confirmed.\",\n",
    "    \"For booking, use card 0123 3456 6789 7890 exp. 07/41 and enter CVV 234.\",\n",
    "    \"Your card 1234 4567 7890 8901 with expiry 08/42 and CVV 345 was charged.\",\n",
    "    \"Activate your service with card 2345 5678 8901 0123, expiring 09/43, CVV 456.\",\n",
    "    \"Payment was made with card 3456 6789 9012 2345, expiry date 10/44, CVV 567.\",\n",
    "    \"Renewal with card 4567 7890 0123 3456, valid till 11/45, CVV 678 successful.\",\n",
    "    \"Card 5678 8901 2345 4567, exp. 12/46, and CVV 789 is now linked to your account.\",\n",
    "    \"My card number is 3411 533584 31000, expiring on 06/28 and CVV is 1107\"\n",
    "]\n",
    "colors={\"cardnumber\":\"#F67DE3\",\"expirydate\":\"#a6e22d\",\"cvv\":\"#7DF6D9\"}\n",
    "options={\"colors\":colors}\n",
    "for i,entry in enumerate(test_data):\n",
    "    print(f\"Test data {i+1}\")\n",
    "    doc=nlp_ner(entry)\n",
    "    for ent in doc.ents:\n",
    "        print(ent.text, ent.label_)\n",
    "    spacy.displacy.render(doc,style=\"ent\",options=options,jupyter=True)\n",
    "    print('\\n')"
   ]
  },
  {
   "cell_type": "markdown",
   "id": "b5339351",
   "metadata": {},
   "source": [
    "Insertion into MongoDB"
   ]
  },
  {
   "cell_type": "code",
   "execution_count": null,
   "id": "6a20c247-f090-4219-89b1-283a4f68f2aa",
   "metadata": {},
   "outputs": [],
   "source": [
    "pip install pymongo"
   ]
  },
  {
   "cell_type": "code",
   "execution_count": 177,
   "id": "6b7cb76f-caa3-4323-96a1-8712446af0d6",
   "metadata": {},
   "outputs": [],
   "source": [
    "from pymongo import MongoClient\n",
    "client = MongoClient('mongodb://localhost:27017/')\n",
    "db = client['ner_database']\n",
    "collection = db['ner_results']"
   ]
  },
  {
   "cell_type": "code",
   "execution_count": 178,
   "id": "7f0e9bdb-af92-4984-b975-c04b670eceb9",
   "metadata": {},
   "outputs": [],
   "source": [
    "for entry in test_data: #for each entry in test data\n",
    "    doc = nlp_ner(entry) #get the details of the entities in the entry\n",
    "    doc_to_insert = {\n",
    "        \"text\": entry,\n",
    "        \"entities\": []\n",
    "    }\n",
    "    for ent in doc.ents: #for every entity in doc.ent\n",
    "        doc_to_insert[\"entities\"].append({     \n",
    "            \"text\": ent.text,\n",
    "            \"start_char\": ent.start_char,\n",
    "            \"end_char\": ent.end_char,\n",
    "            \"label\": ent.label_\n",
    "        })\n",
    "    collection.insert_one(doc_to_insert)"
   ]
  },
  {
   "cell_type": "code",
   "execution_count": null,
   "id": "0cb08572-9096-465d-8445-ad552ebf3534",
   "metadata": {},
   "outputs": [],
   "source": [
    "results = collection.find({\"entities.label\": \"cvv\"})\n",
    "for doc in results:\n",
    "    print(doc)"
   ]
  },
  {
   "cell_type": "markdown",
   "id": "6e50ea8d-be3c-4d93-bdfb-f120a7cf6451",
   "metadata": {},
   "source": [
    "Sample Queries"
   ]
  },
  {
   "cell_type": "markdown",
   "id": "03661cc5-0e22-43ad-b00f-fca0dfbc825e",
   "metadata": {},
   "source": [
    "Count the number of documents that contain atleast one entity with 'expirydate'"
   ]
  },
  {
   "cell_type": "code",
   "execution_count": 173,
   "id": "19a8184e-a29c-4b34-8934-dfa682e43685",
   "metadata": {},
   "outputs": [
    {
     "name": "stdout",
     "output_type": "stream",
     "text": [
      "Documents with 'expirydate' entities: 56\n"
     ]
    }
   ],
   "source": [
    "expirydate_count = collection.count_documents({\"entities.label\": \"expirydate\"})\n",
    "print(f\"Documents with 'expirydate' entities: {expirydate_count}\")"
   ]
  },
  {
   "cell_type": "markdown",
   "id": "8e4376c3-f8a4-4394-a96a-eae069514698",
   "metadata": {},
   "source": [
    "Count the number of documents that contain atleast one entity with 'cvv'"
   ]
  },
  {
   "cell_type": "code",
   "execution_count": 174,
   "id": "31f39a60-48cb-49fd-aca7-96d3663b500e",
   "metadata": {},
   "outputs": [
    {
     "name": "stdout",
     "output_type": "stream",
     "text": [
      "Documents with 'cvv' entities: 57\n"
     ]
    }
   ],
   "source": [
    "cvv_count = collection.count_documents({\"entities.label\": \"cvv\"})\n",
    "print(f\"Documents with 'cvv' entities: {cvv_count}\")"
   ]
  },
  {
   "cell_type": "code",
   "execution_count": 175,
   "id": "901d0b64-302d-4b22-847b-84dd6b05c3a4",
   "metadata": {},
   "outputs": [
    {
     "name": "stdout",
     "output_type": "stream",
     "text": [
      "Documents with 'cardnumber' entities: 57\n"
     ]
    }
   ],
   "source": [
    "card_number_count = collection.count_documents({\"entities.label\": \"cardnumber\"})\n",
    "print(f\"Documents with 'cardnumber' entities: {card_number_count}\")"
   ]
  },
  {
   "cell_type": "code",
   "execution_count": null,
   "id": "eb7f44a2-eaca-4495-82b9-113a45e61198",
   "metadata": {},
   "outputs": [],
   "source": []
  }
 ],
 "metadata": {
  "kernelspec": {
   "display_name": "Python 3 (ipykernel)",
   "language": "python",
   "name": "python3"
  },
  "language_info": {
   "codemirror_mode": {
    "name": "ipython",
    "version": 3
   },
   "file_extension": ".py",
   "mimetype": "text/x-python",
   "name": "python",
   "nbconvert_exporter": "python",
   "pygments_lexer": "ipython3",
   "version": "3.9.18"
  }
 },
 "nbformat": 4,
 "nbformat_minor": 5
}
