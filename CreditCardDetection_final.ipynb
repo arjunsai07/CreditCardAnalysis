{
 "cells": [
  {
   "cell_type": "markdown",
   "id": "43a44cf9-cd57-4ba8-98c9-29dadb2773e5",
   "metadata": {},
   "source": [
    "Installations"
   ]
  },
  {
   "cell_type": "code",
   "execution_count": null,
   "id": "96c77f6c-9761-4b77-a593-2c41f9a8eec2",
   "metadata": {},
   "outputs": [],
   "source": [
    "pip install -U pip setuptools wheel"
   ]
  },
  {
   "cell_type": "code",
   "execution_count": null,
   "id": "d4f308ce-5544-4b78-a0c1-8cd900ddb450",
   "metadata": {},
   "outputs": [],
   "source": [
    "pip install -U spacy"
   ]
  },
  {
   "cell_type": "code",
   "execution_count": null,
   "id": "1cc84236-fd3d-4ea7-8983-86dd99d60d9e",
   "metadata": {},
   "outputs": [],
   "source": [
    "pip install spacy[lookups,transformers]"
   ]
  },
  {
   "cell_type": "code",
   "execution_count": 1,
   "id": "88b9ce52-595a-4b8f-8bdb-31074b00782a",
   "metadata": {},
   "outputs": [],
   "source": [
    "import spacy"
   ]
  },
  {
   "cell_type": "code",
   "execution_count": null,
   "id": "b371b2cd-11d4-4f8a-912b-ba5e00078b43",
   "metadata": {},
   "outputs": [],
   "source": [
    "!python -m spacy download en_core_web_sm"
   ]
  },
  {
   "cell_type": "code",
   "execution_count": null,
   "id": "8623d8d7-cf6b-4b11-83f0-79ddb951b3eb",
   "metadata": {},
   "outputs": [],
   "source": []
  },
  {
   "cell_type": "code",
   "execution_count": 18,
   "id": "be835725-4c12-4dee-b975-5f07b65163dc",
   "metadata": {},
   "outputs": [
    {
     "data": {
      "text/plain": [
       "<spacy.lang.en.English at 0x1fab1e838e0>"
      ]
     },
     "execution_count": 18,
     "metadata": {},
     "output_type": "execute_result"
    }
   ],
   "source": [
    "nlp=spacy.load(\"en_core_web_lg\")\n",
    "nlp"
   ]
  },
  {
   "cell_type": "markdown",
   "id": "b52f106b-c275-4591-b968-83e9a660ae00",
   "metadata": {},
   "source": [
    "Generate Card numbers randomly"
   ]
  },
  {
   "cell_type": "code",
   "execution_count": null,
   "id": "e26f4543-049c-4a62-a106-94d6fdd48941",
   "metadata": {},
   "outputs": [],
   "source": [
    "import random\n",
    "\n",
    "def generate_credit_card_number(prefix, length):\n",
    "    \"\"\"Generate a fake credit card number based on the prefix and length.\"\"\"\n",
    "    number = [int(x) for x in str(prefix)]\n",
    "    while len(number) < (length - 1):\n",
    "        number.append(random.randint(0, 9))\n",
    "\n",
    "    sum_ = 0\n",
    "    reversed_number = number[::-1]\n",
    "    for i in range(len(reversed_number)):\n",
    "        digit = reversed_number[i]\n",
    "        if i % 2 == 0:\n",
    "            digit *= 2\n",
    "            if digit > 9:\n",
    "                digit -= 9\n",
    "        sum_ += digit\n",
    "\n",
    "    check_digit = (10 - (sum_ % 10)) % 10\n",
    "    number.append(check_digit)\n",
    "\n",
    "    return ''.join(map(str, number))\n",
    "\n",
    "# Initialize lists to hold the generated numbers\n",
    "visa_numbers = []\n",
    "mastercard_numbers = []\n",
    "\n",
    "# Generate 25 Visa numbers (prefix 4, length 16)\n",
    "for _ in range(25):\n",
    "    visa_numbers.append(generate_credit_card_number(4, 16))\n",
    "\n",
    "# Generate 25 MasterCard numbers (prefix range 51-55, length 16)\n",
    "for _ in range(25):\n",
    "    prefix = random.choice([51, 52, 53, 54, 55])\n",
    "    mastercard_numbers.append(generate_credit_card_number(prefix, 16))\n",
    "\n",
    "# Example output\n",
    "print(\"Visa Numbers:\", visa_numbers)  # Print the first 5 for brevity\n",
    "print(\"MasterCard Numbers:\", mastercard_numbers)  # Print the first 5 for brevity\n"
   ]
  },
  {
   "cell_type": "code",
   "execution_count": null,
   "id": "b0f9dfe1-365e-404c-b32d-bb4e3f55fd4a",
   "metadata": {},
   "outputs": [],
   "source": [
    "fake_visa = generate_credit_card_number(4, 16)\n",
    "print(\"Fake Visa: \", fake_visa)"
   ]
  },
  {
   "cell_type": "code",
   "execution_count": null,
   "id": "862ba041-87fc-447a-938c-dd78166026a9",
   "metadata": {},
   "outputs": [],
   "source": [
    "fake_mastercard = generate_credit_card_number(51, 16)\n",
    "print(\"Fake MasterCard: \", fake_mastercard)"
   ]
  },
  {
   "cell_type": "code",
   "execution_count": null,
   "id": "da74a3d0-407a-4d5a-83a2-ee0033fb3a42",
   "metadata": {},
   "outputs": [],
   "source": [
    "import pandas as pd\n",
    "import os\n",
    "from tqdm import tqdm\n",
    "import spacy\n",
    "from spacy.tokens import DocBin\n",
    "from spacy import displacy\n",
    "displacy.render(doc, style=\"ent\",jupyter=True)\n",
    "\n",
    "!python -m spacy download en_core_web_lg\n",
    "\n",
    "TRAIN_DATA = [\n",
    "    ('My credit card number is 1234 5678 9101 1121, with an expiry date of 05/24 and a CVV of 123.',\n",
    "     {'entities': [(25, 44, 'cardnumber')]}),\n",
    "     \n",
    "    ('Your MasterCard 5555 4444 3333 2222 expiring April 2024, CVV 456, is due for renewal.',\n",
    "     {'entities': [(16, 35, 'cardnumber')]}),\n",
    "     \n",
    "    ('Please update your payment details: Card # 4321-8765-0911-2110, Exp: 08/23, Security Code: 321',\n",
    "     {'entities': [(43, 62, 'cardnumber')]}),\n",
    "     \n",
    "    ('For the reservation, I\\'m using Visa ending in 1212, expires 06/25, CVV: 234.',\n",
    "     {'entities': [(60, 65, 'expirydate')]}),\n",
    "     \n",
    "    ('Confirming your payment: Card 6789 7896 4564 3210, Expiry 07/26, CVV 567',\n",
    "     {'entities': [(30, 49, 'cardnumber')]}),\n",
    "     \n",
    "    ('I updated my payment method to a card ending in 2121, valid through 09/2023, with a security code of 678.',\n",
    "     {'entities': [(68, 75, 'expirydate')]}),\n",
    "     \n",
    "    ('Your AMEX 3778 123456 21001 with expiration 10/24 and code 789 has been charged.',\n",
    "     {'entities': [(10, 27, 'cardnumber')]}),\n",
    "     \n",
    "    ('Input your credit details: Number 1234567890123456, Exp. Date 12/22, CVV 890.',\n",
    "     {'entities': [(73, 76, 'cvv')]}),\n",
    "     \n",
    "    ('We received your payment info: Visa 4111 1111 1111 1111, expiring January 2025, code 901.',\n",
    "     {'entities': [(85, 88, 'cvv')]}),\n",
    "     \n",
    "    ('Your card number 1234 5678 9123 4567 with an expiry of 12/25 and CVV 123 has been processed.',\n",
    "     {'entities': [(69, 72, 'cvv')]}),\n",
    "     \n",
    "    ('Please enter your payment details: Card 4321-8765-0912-3456, Expiration Date: 01/24, Security Code: 321.', \n",
    "     {'entities': [(39, 58, 'cardnumber')]}),\n",
    "    \n",
    "    ('Card Details: 5678-9123-4567-1234; Expiry MM/YY: 03/26; CVV: 456.', \n",
    "     {'entities': [(49, 54, 'expirydate')]}),\n",
    "    \n",
    "    ('We\\'ve charged your Visa ending in 2345, which expires on 06/27, and has a CVV of 789.', \n",
    "     {'entities': [(57, 62, 'expirydate')]}),\n",
    "    \n",
    "    ('Transaction authorized for card number ending in 3456, expiring on September 2025, CVV 901.', \n",
    "     {'entities': [(87, 90, 'cvv')]}),\n",
    "    \n",
    "    ('For billing, use MasterCard 6789-1234-5678-2345, with an expiration of 11/24, and a 123 CVV.', \n",
    "     {'entities': [(28, 47, 'cardnumber')]}),\n",
    "    \n",
    "    ('Your payment method, credit card number 9876-5432-1098-7654, with 08/26 as the expiry date and 890 as the CVV, is now updated.', \n",
    "     {'entities': [(66, 71, 'expirydate')]}),\n",
    "     \n",
    "    ('Please enter your Visa details as follows: card number 1111 2222 3333 4444, expiry MM/YY such as 03/24, and CVV, perhaps 456.', \n",
    "     {'entities': [(100, 102, 'cvv')]}),\n",
    "    \n",
    "    ('Card confirmation: Number 9988 7766 5544 3322, with a security code of 321, expiring 02/27.', \n",
    "     {'entities': [(60, 62, 'cvv')]}),\n",
    "\n",
    "    ('Update billing with card 8899 6677 5544 2233, CVV 123, valid until 11/28.', \n",
    "     {'entities': [(37, 39, 'cvv')]})\n",
    "]"
   ]
  },
  {
   "cell_type": "code",
   "execution_count": 37,
   "id": "bea7408a-1f89-4426-9942-021140534577",
   "metadata": {},
   "outputs": [
    {
     "name": "stderr",
     "output_type": "stream",
     "text": [
      "100%|████████████████████████████████████████████████████████████████████████████████████████████████████████████████████| 19/19 [00:00<00:00, 1806.21it/s]"
     ]
    },
    {
     "name": "stdout",
     "output_type": "stream",
     "text": [
      "Skipping entity\n",
      "Skipping entity\n",
      "Skipping entity\n"
     ]
    },
    {
     "name": "stderr",
     "output_type": "stream",
     "text": [
      "\n"
     ]
    }
   ],
   "source": [
    "#nlp = spacy.blank(\"en\") # load a new spacy model\n",
    "nlp = spacy.load(\"en_core_web_lg\") # load other spacy model\n",
    "db = DocBin() # create a DocBin object\n",
    "\n",
    "for text, annot in tqdm(TRAIN_DATA): # data in previous format\n",
    "    doc = nlp.make_doc(text) # create doc object from text\n",
    "    ents = []\n",
    "    for start, end, label in annot[\"entities\"]: # add character indexes\n",
    "        span = doc.char_span(start, end, label=label, alignment_mode=\"contract\")\n",
    "        if span is None:\n",
    "            print(\"Skipping entity\")\n",
    "        else:\n",
    "            ents.append(span)\n",
    "    doc.ents = ents # label the text with the ents\n",
    "    db.add(doc)\n",
    "\n",
    "os.chdir(r'C:\\Users\\HP\\Desktop\\Eitacies')\n",
    "db.to_disk(\"./train.spacy\") # save the docbin object"
   ]
  },
  {
   "cell_type": "code",
   "execution_count": 12,
   "id": "540d2a0f-278a-4093-a3a1-88d08adbe7d1",
   "metadata": {},
   "outputs": [],
   "source": [
    "nlp_ner=spacy.load(r\"C:\\Users\\HP\\Desktop\\Eitacies\\output\\model-best\")"
   ]
  },
  {
   "cell_type": "code",
   "execution_count": 15,
   "id": "f14c2495-a105-403d-8a35-444bd8dd868f",
   "metadata": {},
   "outputs": [
    {
     "data": {
      "text/html": [
       "<span class=\"tex2jax_ignore\"><div class=\"entities\" style=\"line-height: 2.5; direction: ltr\">John Doe recently updated his payment method with a new card, number 9876 5432 1098 7654, which has an expiration of 11/29 and a CVV of 321. He used this card to make a donation of $500 to the Global Relief Fund. Additionally, Jane Smith reported that her card \n",
       "<mark class=\"entity\" style=\"background: #F67DE3; padding: 0.45em 0.6em; margin: 0 0.25em; line-height: 1; border-radius: 0.35em;\">\n",
       "    4321 8765 0912 3456\n",
       "    <span style=\"font-size: 0.8em; font-weight: bold; line-height: 1; border-radius: 0.35em; vertical-align: middle; margin-left: 0.5rem\">cardnumber</span>\n",
       "</mark>\n",
       ", expiring on \n",
       "<mark class=\"entity\" style=\"background: #a6e22d; padding: 0.45em 0.6em; margin: 0 0.25em; line-height: 1; border-radius: 0.35em;\">\n",
       "    05/27\n",
       "    <span style=\"font-size: 0.8em; font-weight: bold; line-height: 1; border-radius: 0.35em; vertical-align: middle; margin-left: 0.5rem\">expirydate</span>\n",
       "</mark>\n",
       " with a CVV of 456, was used without her authorization in a fraudulent transaction. Please investigate this matter and ensure the security of our customers' payment information.</div></span>"
      ],
      "text/plain": [
       "<IPython.core.display.HTML object>"
      ]
     },
     "metadata": {},
     "output_type": "display_data"
    }
   ],
   "source": [
    "doc= nlp_ner(\"John Doe recently updated his payment method with a new card, number 9876 5432 1098 7654, which has an expiration of 11/29 and a CVV of 321. He used this card to make a donation of $500 to the Global Relief Fund. Additionally, Jane Smith reported that her card 4321 8765 0912 3456, expiring on 05/27 with a CVV of 456, was used without her authorization in a fraudulent transaction. Please investigate this matter and ensure the security of our customers' payment information.\")\n",
    "colors={\"cardnumber\":\"#F67DE3\",\"expirydate\":\"#a6e22d\",\"cvv\":\"#7DF6D9\"}\n",
    "options={\"colors\":colors}\n",
    "spacy.displacy.render(doc,style=\"ent\",options=options,jupyter=True)"
   ]
  },
  {
   "cell_type": "code",
   "execution_count": null,
   "id": "272b15f2-cdf7-49f5-af16-e78a971e1ae6",
   "metadata": {},
   "outputs": [],
   "source": []
  }
 ],
 "metadata": {
  "kernelspec": {
   "display_name": "Python 3 (ipykernel)",
   "language": "python",
   "name": "python3"
  },
  "language_info": {
   "codemirror_mode": {
    "name": "ipython",
    "version": 3
   },
   "file_extension": ".py",
   "mimetype": "text/x-python",
   "name": "python",
   "nbconvert_exporter": "python",
   "pygments_lexer": "ipython3",
   "version": "3.8.18"
  }
 },
 "nbformat": 4,
 "nbformat_minor": 5
}
